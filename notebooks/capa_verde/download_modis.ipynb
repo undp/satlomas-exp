{
 "cells": [
  {
   "cell_type": "markdown",
   "metadata": {},
   "source": [
    "# Instalación"
   ]
  },
  {
   "cell_type": "code",
   "execution_count": null,
   "metadata": {},
   "outputs": [],
   "source": [
    "# necesita gdal (conda install gdal)"
   ]
  },
  {
   "cell_type": "code",
   "execution_count": 1,
   "metadata": {},
   "outputs": [
    {
     "name": "stdout",
     "output_type": "stream",
     "text": [
      "Collecting pyModis\n",
      "Requirement already satisfied: numpy in c:\\anaconda3\\lib\\site-packages (from pyModis) (1.16.2)\n",
      "Requirement already satisfied: GDAL in c:\\anaconda3\\lib\\site-packages (from pyModis) (3.0.2)\n",
      "Requirement already satisfied: future in c:\\anaconda3\\lib\\site-packages (from pyModis) (0.17.1)\n",
      "Requirement already satisfied: requests in c:\\anaconda3\\lib\\site-packages (from pyModis) (2.21.0)\n",
      "Requirement already satisfied: certifi>=2017.4.17 in c:\\anaconda3\\lib\\site-packages (from requests->pyModis) (2019.9.11)\n",
      "Requirement already satisfied: idna<2.9,>=2.5 in c:\\anaconda3\\lib\\site-packages (from requests->pyModis) (2.8)\n",
      "Requirement already satisfied: urllib3<1.25,>=1.21.1 in c:\\anaconda3\\lib\\site-packages (from requests->pyModis) (1.24.1)\n",
      "Requirement already satisfied: chardet<3.1.0,>=3.0.2 in c:\\anaconda3\\lib\\site-packages (from requests->pyModis) (3.0.4)\n",
      "Installing collected packages: pyModis\n",
      "Successfully installed pyModis-2.0.9\n",
      "Note: you may need to restart the kernel to use updated packages.\n"
     ]
    }
   ],
   "source": [
    "pip install pyModis"
   ]
  },
  {
   "cell_type": "markdown",
   "metadata": {},
   "source": [
    "# Import"
   ]
  },
  {
   "cell_type": "code",
   "execution_count": 2,
   "metadata": {},
   "outputs": [],
   "source": [
    "from pymodis import downmodis"
   ]
  },
  {
   "cell_type": "markdown",
   "metadata": {},
   "source": [
    "# Configuracion"
   ]
  },
  {
   "cell_type": "markdown",
   "metadata": {},
   "source": [
    "#### User and password\n",
    "#### To be able to download data you need user and password provided by NASA. \n",
    "#### Please register at https://urs.earthdata.nasa.gov/users/new; now login and move to your profile page. \n",
    "#### Go to “My application” tab and approve the following applications “LP DAAC Data Pool” and “Earthdata Search”."
   ]
  },
  {
   "cell_type": "code",
   "execution_count": 52,
   "metadata": {},
   "outputs": [],
   "source": [
    "password = 'earthdataDym16'\n",
    "user = 'dblanco'\n",
    "\n",
    "# destination foldert\n",
    "dest = \"imagenes\"\n",
    "# tiles to download\n",
    "tiles = \"h10v11,h11v11,h10v12,h11v12\"\n",
    "# starting day\n",
    "day = \"2014-01-01\"\n",
    "# number of day to download\n",
    "delta = 1\n",
    "product = 'MOD13Q1.006'"
   ]
  },
  {
   "cell_type": "code",
   "execution_count": 53,
   "metadata": {},
   "outputs": [],
   "source": [
    "modisDown = downmodis.downModis(password = password, \n",
    "                                user = user, \n",
    "                                product = product,\n",
    "                                destinationFolder=dest, \n",
    "                                tiles=tiles, \n",
    "                                today=day, \n",
    "                                delta=delta,\n",
    "                               debug = True)\n"
   ]
  },
  {
   "cell_type": "code",
   "execution_count": 54,
   "metadata": {},
   "outputs": [],
   "source": [
    "modisDown.connect()"
   ]
  }
 ],
 "metadata": {
  "kernelspec": {
   "display_name": "Python 3",
   "language": "python",
   "name": "python3"
  },
  "language_info": {
   "codemirror_mode": {
    "name": "ipython",
    "version": 3
   },
   "file_extension": ".py",
   "mimetype": "text/x-python",
   "name": "python",
   "nbconvert_exporter": "python",
   "pygments_lexer": "ipython3",
   "version": "3.7.3"
  }
 },
 "nbformat": 4,
 "nbformat_minor": 2
}
